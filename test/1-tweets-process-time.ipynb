{
 "cells": [
  {
   "cell_type": "markdown",
   "metadata": {
    "collapsed": true,
    "pycharm": {
     "name": "#%% md\n"
    }
   },
   "source": [
    "# Test converting UTC time to local time"
   ]
  },
  {
   "cell_type": "code",
   "execution_count": 1,
   "outputs": [],
   "source": [
    "%load_ext autoreload\n",
    "%autoreload 2"
   ],
   "metadata": {
    "collapsed": false,
    "pycharm": {
     "name": "#%% load_ext autoreload\n"
    }
   }
  },
  {
   "cell_type": "code",
   "execution_count": 30,
   "outputs": [
    {
     "name": "stderr",
     "output_type": "stream",
     "text": [
      "C:\\ProgramData\\Anaconda3\\lib\\site-packages\\numpy\\core\\_asarray.py:83: VisibleDeprecationWarning: Creating an ndarray from ragged nested sequences (which is a list-or-tuple of lists-or-tuples-or ndarrays with different lengths or shapes) is deprecated. If you meant to do this, you must specify 'dtype=object' when creating the ndarray\n",
      "  return array(a, dtype, copy=False, order=order)\n"
     ]
    }
   ],
   "source": [
    "import os\n",
    "import sys\n",
    "import subprocess\n",
    "import pandas as pd\n",
    "from tzwhere import tzwhere\n",
    "from dateutil import tz\n",
    "\n",
    "tzg = tzwhere.tzwhere(forceTZ=True)\n",
    "\n",
    "def get_repo_root():\n",
    "    \"\"\"Get the root directory of the repo.\"\"\"\n",
    "    dir_in_repo = os.path.dirname(os.path.abspath('__file__'))\n",
    "    return subprocess.check_output('git rev-parse --show-toplevel'.split(),\n",
    "                                   cwd=dir_in_repo,\n",
    "                                   universal_newlines=True).rstrip()\n",
    "\n",
    "\n",
    "ROOT_dir = get_repo_root()\n",
    "sys.path.append(ROOT_dir)\n",
    "sys.path.insert(0, ROOT_dir + '/lib')\n",
    "import lib.preprocess as preprocess\n",
    "\n",
    "def where_self(row):\n",
    "    try:\n",
    "        x = tzg.tzNameAt(row[\"lat\"], row[\"lng\"], forceTZ=True)\n",
    "    except:\n",
    "        x = \"Unknown\"\n",
    "    return x"
   ],
   "metadata": {
    "collapsed": false,
    "pycharm": {
     "name": "#%%\n"
    }
   }
  },
  {
   "cell_type": "markdown",
   "source": [
    "## 1. Load data"
   ],
   "metadata": {
    "collapsed": false,
    "pycharm": {
     "name": "#%% md\n"
    }
   }
  },
  {
   "cell_type": "code",
   "execution_count": 24,
   "outputs": [
    {
     "data": {
      "text/plain": "                   time        lat        lng\n0  Sep 13 15:25:48 2020  63.183300  14.650000\n1  Aug 24 22:59:05 2020  59.585902  17.069324\n2  May 17 13:58:47 2020  59.654082  17.106059\n3  Mar 29 18:19:02 2020  63.183300  14.650000\n4  Dec 13 14:36:22 2019  59.654082  17.106059",
      "text/html": "<div>\n<style scoped>\n    .dataframe tbody tr th:only-of-type {\n        vertical-align: middle;\n    }\n\n    .dataframe tbody tr th {\n        vertical-align: top;\n    }\n\n    .dataframe thead th {\n        text-align: right;\n    }\n</style>\n<table border=\"1\" class=\"dataframe\">\n  <thead>\n    <tr style=\"text-align: right;\">\n      <th></th>\n      <th>time</th>\n      <th>lat</th>\n      <th>lng</th>\n    </tr>\n  </thead>\n  <tbody>\n    <tr>\n      <th>0</th>\n      <td>Sep 13 15:25:48 2020</td>\n      <td>63.183300</td>\n      <td>14.650000</td>\n    </tr>\n    <tr>\n      <th>1</th>\n      <td>Aug 24 22:59:05 2020</td>\n      <td>59.585902</td>\n      <td>17.069324</td>\n    </tr>\n    <tr>\n      <th>2</th>\n      <td>May 17 13:58:47 2020</td>\n      <td>59.654082</td>\n      <td>17.106059</td>\n    </tr>\n    <tr>\n      <th>3</th>\n      <td>Mar 29 18:19:02 2020</td>\n      <td>63.183300</td>\n      <td>14.650000</td>\n    </tr>\n    <tr>\n      <th>4</th>\n      <td>Dec 13 14:36:22 2019</td>\n      <td>59.654082</td>\n      <td>17.106059</td>\n    </tr>\n  </tbody>\n</table>\n</div>"
     },
     "execution_count": 24,
     "metadata": {},
     "output_type": "execute_result"
    }
   ],
   "source": [
    "path = os.path.join(ROOT_dir, 'dbs/tweets_20201123_se_geolocations.csv')\n",
    "df = pd.read_csv(path).loc[:, ['time', 'lat', 'lng']] # , nrows=1000\n",
    "df.head()"
   ],
   "metadata": {
    "collapsed": false,
    "pycharm": {
     "name": "#%%\n"
    }
   }
  },
  {
   "cell_type": "markdown",
   "source": [
    "## 2. Time process"
   ],
   "metadata": {
    "collapsed": false,
    "pycharm": {
     "name": "#%% md\n"
    }
   }
  },
  {
   "cell_type": "code",
   "execution_count": 25,
   "outputs": [
    {
     "data": {
      "text/plain": "time    2020-09-13 15:25:48\nlat                 63.1833\nlng                   14.65\nName: 0, dtype: object"
     },
     "execution_count": 25,
     "metadata": {},
     "output_type": "execute_result"
    }
   ],
   "source": [
    "# Convert time to local time\n",
    "df.loc[:, 'time'] = pd.to_datetime(df['time'], infer_datetime_format=True)\n",
    "df.iloc[0]"
   ],
   "metadata": {
    "collapsed": false,
    "pycharm": {
     "name": "#%%\n"
    }
   }
  },
  {
   "cell_type": "code",
   "execution_count": 26,
   "outputs": [
    {
     "data": {
      "text/plain": "time         2020-09-13 15:25:48\nlat                      63.1833\nlng                        14.65\ntime_zone       Europe/Stockholm\nName: 0, dtype: object"
     },
     "execution_count": 26,
     "metadata": {},
     "output_type": "execute_result"
    }
   ],
   "source": [
    "df['time_zone'] = df.apply(lambda row: where_self(row), axis=1)\n",
    "df.iloc[0]"
   ],
   "metadata": {
    "collapsed": false,
    "pycharm": {
     "name": "#%%\n"
    }
   }
  },
  {
   "cell_type": "code",
   "execution_count": 27,
   "outputs": [
    {
     "data": {
      "text/plain": "array(['Europe/Stockholm', 'Asia/Makassar', 'Asia/Dubai', 'Asia/Shanghai',\n       'Europe/Paris', 'Europe/Warsaw', 'Europe/Vatican', 'Europe/Rome',\n       'Europe/Istanbul', 'Europe/Oslo', 'America/Winnipeg',\n       'Europe/Copenhagen', 'Europe/Budapest', 'Europe/Athens',\n       'Europe/Helsinki', 'Europe/Berlin', 'Europe/London',\n       'Europe/Madrid', 'Europe/Lisbon', 'Atlantic/Reykjavik',\n       'Atlantic/Canary', 'Europe/Ljubljana', 'Europe/Amsterdam',\n       'America/Los_Angeles', 'America/New_York', 'America/Detroit',\n       'Africa/Cairo', 'Asia/Ho_Chi_Minh', 'Asia/Kuwait', 'Europe/Zurich',\n       'Europe/Moscow', 'Asia/Baku', 'Asia/Riyadh', 'Asia/Beirut',\n       'Asia/Yekaterinburg', 'Europe/Vienna', 'Europe/Bratislava',\n       'Europe/Mariehamn', 'Asia/Bangkok', 'Europe/Brussels',\n       'Indian/Maldives', 'Asia/Colombo', 'Asia/Chongqing',\n       'Asia/Jakarta', 'Asia/Kuala_Lumpur', 'America/Sao_Paulo',\n       'Asia/Qatar', 'Atlantic/Madeira', 'Asia/Nicosia', 'Europe/Dublin',\n       'Africa/Johannesburg', 'Australia/Brisbane', 'America/Toronto',\n       'America/Chicago', 'Pacific/Auckland', 'America/Phoenix',\n       'Atlantic/Azores', 'America/Cancun', 'Europe/Zagreb',\n       'America/Fortaleza', 'America/Panama', 'Europe/Podgorica',\n       'Europe/Sofia', 'Europe/Gibraltar', 'Asia/Singapore',\n       'Asia/Kolkata', 'Europe/Malta', 'America/Vancouver',\n       'America/Curacao', 'Europe/Luxembourg', 'America/Merida',\n       'Africa/Kinshasa', 'Europe/Monaco', 'Asia/Kathmandu',\n       'Africa/Casablanca', 'America/Montreal', 'America/Nassau',\n       'America/Denver', 'Europe/Bucharest', 'Africa/Maputo',\n       'Africa/Dar_es_Salaam', 'America/Port-au-Prince', 'America/Bogota',\n       'Asia/Dhaka', 'Africa/Freetown', 'Asia/Manila', 'Asia/Tehran',\n       'Africa/Lagos', 'Europe/Riga', 'Asia/Tbilisi', 'Europe/Tallinn',\n       'Pacific/Galapagos', 'Asia/Hebron', 'America/Mexico_City',\n       'America/Monterrey', 'America/Mazatlan', 'Europe/Prague',\n       'Asia/Jerusalem', 'America/Lima', 'Asia/Tokyo',\n       'Europe/Kaliningrad', 'Asia/Novosibirsk', 'Europe/Volgograd',\n       'Europe/Belgrade', 'Asia/Omsk', 'Europe/Kiev', 'Asia/Irkutsk',\n       'Asia/Novokuznetsk', 'Europe/Vilnius', 'Europe/Chisinau',\n       'Asia/Krasnoyarsk', 'Europe/Minsk', 'Asia/Phnom_Penh',\n       'Africa/Tunis', 'Asia/Dushanbe', 'Asia/Kuching', 'Asia/Vientiane',\n       'Asia/Urumqi', 'Asia/Kashgar', 'Asia/Bishkek', 'Asia/Samarkand',\n       'Asia/Aqtau', 'Africa/Bamako', 'America/Puerto_Rico',\n       'America/Anchorage', 'Asia/Almaty', 'Asia/Hong_Kong',\n       'America/Argentina/Cordoba', 'America/Indiana/Indianapolis',\n       'America/Regina', 'Pacific/Honolulu', 'Atlantic/Cape_Verde',\n       'Asia/Taipei', 'Australia/Sydney', 'America/Edmonton',\n       'Australia/Perth', None, 'Pacific/Easter', 'America/Santiago',\n       'America/Havana', 'America/Halifax',\n       'America/Argentina/Buenos_Aires', 'America/Argentina/Salta',\n       'America/Montevideo', 'Africa/Algiers', 'Europe/Andorra',\n       'Africa/Lome', 'America/Tortola', 'America/Campo_Grande',\n       'America/Argentina/Rio_Gallegos', 'Asia/Amman', 'Africa/Luanda',\n       'Europe/Tirane', 'Africa/Kampala', 'America/Boise',\n       'America/Barbados', 'Europe/Sarajevo', 'America/Costa_Rica',\n       'America/Jamaica', 'Australia/Darwin', 'America/La_Paz',\n       'America/Bahia', 'America/Asuncion', 'America/Maceio',\n       'America/Cuiaba', 'America/Porto_Velho', 'America/Boa_Vista',\n       'America/Manaus', 'America/Belem', 'America/Araguaina',\n       'Australia/Hobart', 'Arctic/Longyearbyen', 'Asia/Damascus',\n       'Asia/Seoul', 'America/Recife', 'America/Matamoros',\n       'America/Lower_Princes', 'America/St_Thomas', 'America/St_Lucia',\n       'America/Antigua', 'Africa/Accra', 'America/Bahia_Banderas',\n       'Asia/Karachi', 'Africa/Maseru', 'America/Guatemala',\n       'Africa/Addis_Ababa', 'Asia/Baghdad', 'Africa/Juba',\n       'Australia/Melbourne', 'Australia/Adelaide', 'Asia/Yerevan',\n       'Africa/Kigali', 'Europe/Isle_of_Man', 'Atlantic/Faroe',\n       'uninhabited', 'Australia/Lord_Howe', 'America/Cayman',\n       'America/Santo_Domingo', 'Europe/Skopje', 'Indian/Mauritius',\n       'America/Dominica', 'America/Marigot', 'Asia/Macau',\n       'Europe/Samara', 'Pacific/Tahiti', 'Asia/Brunei', 'Asia/Muscat',\n       'Africa/Mbabane', 'America/Port_of_Spain', 'America/Managua',\n       'Europe/Guernsey', 'Africa/Ceuta', 'Europe/Uzhgorod',\n       'Africa/Lubumbashi', 'Pacific/Fiji', 'America/Tijuana',\n       'America/Aruba', 'America/El_Salvador', 'America/Moncton',\n       'Europe/Simferopol', 'Asia/Vladivostok', 'Africa/Nairobi',\n       'Africa/Libreville', 'America/Guadeloupe', 'Africa/Banjul',\n       'Africa/Dakar', 'America/St_Johns', 'Europe/Vaduz', 'Asia/Aden',\n       'Indian/Reunion', 'Asia/Rangoon', 'America/Belize',\n       'America/Argentina/Catamarca', 'Europe/San_Marino',\n       'America/St_Barthelemy', 'America/St_Vincent', 'America/Guayaquil',\n       'America/Argentina/Mendoza', 'America/Argentina/Jujuy',\n       'America/Grand_Turk', 'America/Godthab', 'Europe/Jersey',\n       'Pacific/Saipan', 'America/Grenada', 'Asia/Pyongyang',\n       'Asia/Ulaanbaatar', 'Asia/Bahrain', 'Australia/Lindeman',\n       'Atlantic/Bermuda', 'America/Cayenne', 'Africa/Brazzaville',\n       'Pacific/Port_Moresby', 'Asia/Jayapura', 'Asia/Thimphu',\n       'America/Noronha', 'Asia/Pontianak', 'Pacific/Apia',\n       'America/Santa_Isabel', 'Pacific/Tongatapu', 'Pacific/Rarotonga',\n       'America/North_Dakota/New_Salem', 'Asia/Ashgabat',\n       'America/Caracas', 'Africa/Douala', 'America/Yellowknife',\n       'Pacific/Efate', 'Africa/Djibouti', 'America/Anguilla',\n       'Asia/Tashkent', 'America/Tegucigalpa', 'Africa/Blantyre',\n       'Asia/Chita', 'America/Sitka', 'Indian/Mahe', 'America/Kralendijk',\n       'America/St_Kitts', 'Africa/Tripoli', 'Africa/Lusaka', 'Asia/Dili',\n       'Asia/Qyzylorda', 'Asia/Oral', 'America/Ojinaga',\n       'America/Whitehorse', 'America/Glace_Bay', 'America/Martinique',\n       'Pacific/Guam', 'Pacific/Noumea', 'America/Argentina/Ushuaia',\n       'Africa/El_Aaiun', 'Indian/Antananarivo', 'Africa/Bujumbura',\n       'Africa/Gaborone', 'Africa/Khartoum', 'Africa/Windhoek',\n       'America/Juneau', 'America/Yakutat', 'America/Chihuahua',\n       'Asia/Kabul', 'Africa/Mogadishu', 'Africa/Niamey',\n       'Africa/Nouakchott', 'Africa/Monrovia', 'Europe/Zaporozhye',\n       'Unknown', 'America/Cambridge_Bay', 'Asia/Sakhalin',\n       'America/Indiana/Vincennes', 'Asia/Magadan', 'Asia/Ust-Nera',\n       'Asia/Yakutsk', 'Africa/Harare', 'Asia/Kamchatka', 'Asia/Harbin',\n       'America/Guyana', 'America/Santarem', 'America/Hermosillo',\n       'Africa/Porto-Novo', 'America/Argentina/San_Luis', 'America/Thule',\n       'Asia/Anadyr', 'Asia/Khandyga', 'Asia/Srednekolymsk',\n       'Africa/Ouagadougou', 'Africa/Sao_Tome', 'Indian/Comoro',\n       'Africa/Abidjan', 'America/Paramaribo', 'America/Iqaluit',\n       'Indian/Chagos', 'America/Thunder_Bay', 'Atlantic/South_Georgia',\n       'Indian/Kerguelen', 'Asia/Hovd', 'America/Adak', 'Pacific/Norfolk',\n       'Pacific/Palau', 'America/Kentucky/Louisville', 'Africa/Bangui',\n       'America/Montserrat', 'America/Rankin_Inlet', 'Pacific/Chuuk',\n       'America/Goose_Bay', 'America/Menominee', 'America/Swift_Current',\n       'America/Argentina/La_Rioja', 'America/Argentina/Tucuman',\n       'Pacific/Guadalcanal', 'Atlantic/Stanley',\n       'America/Argentina/San_Juan', 'America/Indiana/Petersburg'],\n      dtype=object)"
     },
     "execution_count": 27,
     "metadata": {},
     "output_type": "execute_result"
    }
   ],
   "source": [
    "df.time_zone.unique()"
   ],
   "metadata": {
    "collapsed": false,
    "pycharm": {
     "name": "#%%\n"
    }
   }
  },
  {
   "cell_type": "code",
   "execution_count": 28,
   "outputs": [
    {
     "data": {
      "text/plain": "time                2020-09-13 15:25:48\nlat                             63.1833\nlng                               14.65\ntime_zone              Europe/Stockholm\ntime_local    2020-09-13 17:25:48+02:00\nName: 0, dtype: object"
     },
     "execution_count": 28,
     "metadata": {},
     "output_type": "execute_result"
    }
   ],
   "source": [
    "df = df.loc[(df.time_zone != \"Unknown\") & (df.time_zone != \"uninhabited\"), :]\n",
    "df.loc[:, 'time_local'] = df.groupby('time_zone')['time'].apply(lambda x: x.dt.tz_localize('UTC').dt.tz_convert(x.name))\n",
    "df.iloc[0]\n"
   ],
   "metadata": {
    "collapsed": false,
    "pycharm": {
     "name": "#%%\n"
    }
   }
  },
  {
   "cell_type": "code",
   "execution_count": 29,
   "outputs": [
    {
     "data": {
      "text/plain": "time                2020-09-13 15:25:48\nlat                             63.1833\nlng                               14.65\ntime_zone              Europe/Stockholm\ntime_local    2020-09-13 17:25:48+02:00\ndate                         2020-09-13\nhourofday                            17\nweekday                               6\nName: 0, dtype: object"
     },
     "execution_count": 29,
     "metadata": {},
     "output_type": "execute_result"
    }
   ],
   "source": [
    "df.dropna(how='any', inplace=True)\n",
    "df.loc[:, \"date\"] = df.loc[:, \"time_local\"].apply(lambda x: x.date())\n",
    "df.loc[:, \"hourofday\"] = df.loc[:, \"time_local\"].apply(lambda x: x.hour)\n",
    "df.loc[:, \"weekday\"] = df.loc[:, \"time_local\"].apply(lambda x: x.weekday())\n",
    "df.iloc[0]"
   ],
   "metadata": {
    "collapsed": false,
    "pycharm": {
     "name": "#%%\n"
    }
   }
  },
  {
   "cell_type": "markdown",
   "source": [
    "## 3. Test the whole preprocess"
   ],
   "metadata": {
    "collapsed": false,
    "pycharm": {
     "name": "#%% md\n"
    }
   }
  },
  {
   "cell_type": "code",
   "execution_count": 33,
   "outputs": [
    {
     "name": "stderr",
     "output_type": "stream",
     "text": [
      "C:\\ProgramData\\Anaconda3\\lib\\site-packages\\numpy\\core\\_asarray.py:83: VisibleDeprecationWarning: Creating an ndarray from ragged nested sequences (which is a list-or-tuple of lists-or-tuples-or ndarrays with different lengths or shapes) is deprecated. If you meant to do this, you must specify 'dtype=object' when creating the ndarray\n",
      "  return array(a, dtype, copy=False, order=order)\n",
      "C:\\ProgramData\\Anaconda3\\lib\\site-packages\\geopandas\\geodataframe.py:831: SettingWithCopyWarning: \n",
      "A value is trying to be set on a copy of a slice from a DataFrame.\n",
      "Try using .loc[row_indexer,col_indexer] = value instead\n",
      "\n",
      "See the caveats in the documentation: https://pandas.pydata.org/pandas-docs/stable/user_guide/indexing.html#returning-a-view-versus-a-copy\n",
      "  super(GeoDataFrame, self).__setitem__(key, value)\n"
     ]
    },
    {
     "name": "stdout",
     "output_type": "stream",
     "text": [
      "Geotagged tweets labelled: domestic vs international.\n",
      "Removing 2.42 percentage of center-of-region geotweets\n",
      "Place/cross-posting geotagged tweets removed.\n",
      "UTC time converted to local time.\n"
     ]
    },
    {
     "data": {
      "text/plain": "tw_id                                            1305165791109828611\ntime                                             2020-09-13 15:25:48\ngeo_label                                                          1\nlat                                                          63.1833\nlng                                                            14.65\nplace_label                                                        1\nplace_id                                            80fa7d473fb9a545\nplace_country                                                 Sweden\nplace_full_name                                   Östersund, Sverige\ncontent            Haft en helt underbar sommar med familjen!❤️\\n...\nuser_name                                                  100021601\nuser_location                                                 Sweden\nuser_descp                                                       NaN\nuser_time_zone                                                   NaN\nuser_utc_offset                                                  NaN\ndom                                                                1\ntime_zone                                           Europe/Stockholm\ntime_local                                 2020-09-13 17:25:48+02:00\ndate                                                      2020-09-13\nhourofday                                                         17\nweekday                                                            6\nName: 0, dtype: object"
     },
     "execution_count": 33,
     "metadata": {},
     "output_type": "execute_result"
    }
   ],
   "source": [
    "tw = preprocess.GeotweetsProcessor()\n",
    "\n",
    "# Filtering geotweets and save\n",
    "tw.tweets_load()\n",
    "tw.tweets_labeler_boundary()\n",
    "print(\"Geotagged tweets labelled: domestic vs international.\")\n",
    "\n",
    "tw.tweets_filter_precise_geolocation()\n",
    "print(\"Place/cross-posting geotagged tweets removed.\")\n",
    "\n",
    "tw.tweets_time_processor()\n",
    "print(\"UTC time converted to local time.\")\n",
    "tw.geotweets.iloc[0]"
   ],
   "metadata": {
    "collapsed": false,
    "pycharm": {
     "name": "#%%\n"
    }
   }
  }
 ],
 "metadata": {
  "kernelspec": {
   "display_name": "Python 3",
   "language": "python",
   "name": "python3"
  },
  "language_info": {
   "codemirror_mode": {
    "name": "ipython",
    "version": 2
   },
   "file_extension": ".py",
   "mimetype": "text/x-python",
   "name": "python",
   "nbconvert_exporter": "python",
   "pygments_lexer": "ipython2",
   "version": "2.7.6"
  }
 },
 "nbformat": 4,
 "nbformat_minor": 0
}