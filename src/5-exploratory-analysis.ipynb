{
 "cells": [
  {
   "cell_type": "markdown",
   "metadata": {
    "collapsed": true,
    "pycharm": {
     "name": "#%% md\n"
    }
   },
   "source": [
    "# Exploratory analysis\n",
    "\n",
    "There are 15,143,219 tweets collected from around 7000 Twitter users.\n",
    "\n",
    "Further filters identify 2700 Twitter users who live in Sweden.\n",
    "\n",
    "If we only focus on 2019-2020 time period, we have 134,855 geotagged tweets from 1,518\n",
    "top geotag users in Sweden.\n",
    "\n",
    "**Main concerns**\n",
    "\n",
    "1. The number of geotag Twitter users is too small to explore the association of socio-economic\n",
    "factors with mobility during pandemic.\n",
    "\n",
    "2. Small number of geotagged tweets may not support the exploration at the individual level.\n",
    "\n",
    "**Potential adjustments**\n",
    "\n",
    "1. Focus on the other countries/regions.\n",
    "\n",
    "2. Switch to aggregate analysis. For instance, the comparison between origin-destination flow\n",
    "and the infection statistics."
   ]
  },
  {
   "cell_type": "code",
   "execution_count": 1,
   "outputs": [],
   "source": [
    "%load_ext autoreload\n",
    "%autoreload 2"
   ],
   "metadata": {
    "collapsed": false,
    "pycharm": {
     "name": "#%% load_ext autoreload\n"
    }
   }
  },
  {
   "cell_type": "code",
   "execution_count": 2,
   "outputs": [],
   "source": [
    "import os\n",
    "import sys\n",
    "import subprocess\n",
    "import pandas as pd\n",
    "import matplotlib.pyplot as plt\n",
    "\n",
    "def get_repo_root():\n",
    "    \"\"\"Get the root directory of the repo.\"\"\"\n",
    "    dir_in_repo = os.path.dirname(os.path.abspath('__file__'))\n",
    "    return subprocess.check_output('git rev-parse --show-toplevel'.split(),\n",
    "                                   cwd=dir_in_repo,\n",
    "                                   universal_newlines=True).rstrip()\n",
    "\n",
    "ROOT_dir = get_repo_root()\n",
    "sys.path.append(ROOT_dir)\n",
    "sys.path.insert(0, ROOT_dir + '/lib')"
   ],
   "metadata": {
    "collapsed": false,
    "pycharm": {
     "name": "#%%\n"
    }
   }
  },
  {
   "cell_type": "markdown",
   "source": [
    "## 1. Load data"
   ],
   "metadata": {
    "collapsed": false,
    "pycharm": {
     "name": "#%% md\n"
    }
   }
  },
  {
   "cell_type": "code",
   "execution_count": 3,
   "outputs": [
    {
     "data": {
      "text/plain": "tw_id                                            1305165791109828611\ntime                                             2020-09-13 15:25:48\ngeo_label                                                          1\nlat                                                          63.1833\nlng                                                            14.65\nplace_label                                                        1\nplace_id                                            80fa7d473fb9a545\nplace_country                                                 Sweden\nplace_full_name                                   Östersund, Sverige\ncontent            Haft en helt underbar sommar med familjen!❤️\\n...\nuser_name                                                  100021601\nuser_location                                                 Sweden\nuser_descp                                                       NaN\nuser_time_zone                                                   NaN\nuser_utc_offset                                                  NaN\ndom                                                                1\ntime_zone                                           Europe/Stockholm\ntime_local                                 2020-09-13 17:25:48+02:00\ndate                                                      2020-09-13\nhourofday                                                         17\nweekday                                                            6\nName: 0, dtype: object"
     },
     "execution_count": 3,
     "metadata": {},
     "output_type": "execute_result"
    }
   ],
   "source": [
    "df = pd.read_csv(os.path.join(ROOT_dir, 'dbs/geotweets/geotweets_se.csv'))\n",
    "df.drop(columns=['Unnamed: 0'], inplace=True)\n",
    "df.iloc[0]"
   ],
   "metadata": {
    "collapsed": false,
    "pycharm": {
     "name": "#%%\n"
    }
   }
  },
  {
   "cell_type": "code",
   "execution_count": 4,
   "outputs": [
    {
     "name": "stdout",
     "output_type": "stream",
     "text": [
      "Number of available geotagged tweets: 134855 \n",
      " from number of users: 1518\n"
     ]
    }
   ],
   "source": [
    "# Check only 2019 - 2020\n",
    "df = df.loc[(df.date.apply(lambda x: x.startswith( '2019' ))) |\n",
    "(df.date.apply(lambda x: x.startswith( '2020' ))), :]\n",
    "print(\"Number of available geotagged tweets:\", len(df),\n",
    "      \"\\n from number of users:\", df.user_name.nunique())"
   ],
   "metadata": {
    "collapsed": false,
    "pycharm": {
     "name": "#%%\n"
    }
   }
  },
  {
   "cell_type": "markdown",
   "source": [
    "## 2. Data summary"
   ],
   "metadata": {
    "collapsed": false
   }
  },
  {
   "cell_type": "markdown",
   "source": [
    "### 2.1 Check the change of geotagged tweets\n",
    "\n",
    "The below figure shows that the travelling reduced after the start of pandemic in Sweden\n",
    "on Jan 24, 2020.\n",
    "\n",
    "Red - international locations.\n",
    "\n",
    "Blue - domestic locations."
   ],
   "metadata": {
    "collapsed": false,
    "pycharm": {
     "name": "#%% md\n"
    }
   }
  },
  {
   "cell_type": "code",
   "execution_count": 5,
   "outputs": [
    {
     "data": {
      "text/plain": "<matplotlib.lines.Line2D at 0x18d9a44de80>"
     },
     "execution_count": 5,
     "metadata": {},
     "output_type": "execute_result"
    },
    {
     "data": {
      "text/plain": "<Figure size 432x288 with 1 Axes>",
      "image/png": "[encoded data removed]"
     },
     "metadata": {
      "needs_background": "light"
     },
     "output_type": "display_data"
    }
   ],
   "source": [
    "df_date = df.groupby(['date', 'dom']).size()\n",
    "df_date.name = 'count'\n",
    "df_date = df_date.reset_index()\n",
    "plt.scatter(x=df_date.loc[df_date.dom == 1, 'date'],\n",
    "            y=df_date.loc[df_date.dom == 1, 'count'], color='darkblue', alpha=0.3, s=10)\n",
    "plt.scatter(x=df_date.loc[df_date.dom == 0, 'date'],\n",
    "            y=df_date.loc[df_date.dom == 0, 'count'], color='darkred', alpha=0.3, s=10)\n",
    "plt.axvline(x='2020-01-24')\n"
   ],
   "metadata": {
    "collapsed": false,
    "pycharm": {
     "name": "#%%\n"
    }
   }
  }
 ],
 "metadata": {
  "kernelspec": {
   "display_name": "Python 3",
   "language": "python",
   "name": "python3"
  },
  "language_info": {
   "codemirror_mode": {
    "name": "ipython",
    "version": 2
   },
   "file_extension": ".py",
   "mimetype": "text/x-python",
   "name": "python",
   "nbconvert_exporter": "python",
   "pygments_lexer": "ipython2",
   "version": "2.7.6"
  }
 },
 "nbformat": 4,
 "nbformat_minor": 0
}